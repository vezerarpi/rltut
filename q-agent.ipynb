{
 "cells": [
  {
   "cell_type": "code",
   "execution_count": null,
   "metadata": {},
   "outputs": [],
   "source": [
    "import os\n",
    "import random\n",
    "\n",
    "import gym\n",
    "from gym import wrappers\n",
    "import chainer as C\n",
    "import numpy as np"
   ]
  },
  {
   "cell_type": "code",
   "execution_count": null,
   "metadata": {},
   "outputs": [],
   "source": [
    "n_episodes = 1000\n",
    "rng = random.Random()\n",
    "rng.seed(42)"
   ]
  },
  {
   "cell_type": "code",
   "execution_count": null,
   "metadata": {},
   "outputs": [],
   "source": [
    "class Model(C.Chain):\n",
    "    def __init__(self):\n",
    "        super().__init__()\n",
    "        state_size = 4\n",
    "        action_size = 2\n",
    "        self.l1 = C.links.Linear(state_size, 16)\n",
    "        self.l2 = C.links.Linear(16, action_size)\n",
    "        \n",
    "    def __call__(self, state):\n",
    "        h = C.functions.relu(self.l1(state))\n",
    "        return self.l2(h)\n"
   ]
  },
  {
   "cell_type": "code",
   "execution_count": null,
   "metadata": {},
   "outputs": [],
   "source": [
    "class Agent:\n",
    "    def __init__(self):\n",
    "        self._lr = 0.01\n",
    "        self._epsilon = 1.0\n",
    "        self._gamma = 0.95\n",
    "        # experience buffer\n",
    "        # {'state', 'action', 'reward', 'next_state'}\n",
    "        self._exps = []\n",
    "        self._last_act = 0\n",
    "        self._state = None\n",
    "        self._model = Model()\n",
    "        self._optim = C.optimizers.SGD(lr=self._lr)\n",
    "        self._optim.setup(self._model)\n",
    "    \n",
    "    def act(self, state):\n",
    "        if rng.random() < self._epsilon:\n",
    "            self._last_act = rng.choice([0, 1])\n",
    "        else:\n",
    "            x = state.reshape((1, -1))\n",
    "            self._last_act = np.argmax(self._model(C.Variable(x)).data)\n",
    "        self._state = state\n",
    "        return self._last_act\n",
    "    \n",
    "    def _target(self, experience):\n",
    "        # y = reward + gamma * Qmax(action, next_state)\n",
    "        y = np.float32(experience['reward'])\n",
    "        if experience['next_state'] is not None:\n",
    "            # next state x\n",
    "            x = experience['next_state'].reshape((1, -1)).astype(np.float32)\n",
    "            y += self._gamma * np.max(self._model(C.Variable(x)).data)\n",
    "        return y\n",
    "    \n",
    "    def _make_exp(self, state, action, reward, next_state):\n",
    "        return dict(state=state, action=action, reward=reward, next_state=next_state)\n",
    "    \n",
    "    def reward(self, reward, next_state):\n",
    "        self._epsilon -= 1e-3\n",
    "        self._exps.append(self._make_exp(self._state, self._last_act, reward, next_state))\n",
    "        batch_size = 32\n",
    "        #sample a batch\n",
    "        sample = rng.sample(self._exps, k=min(batch_size, len(self._exps)))\n",
    "        #eval batch\n",
    "        states = np.stack([s['state'] for s in sample])\n",
    "        actions = np.stack([s['action'] for s in sample]).astype(np.int32)\n",
    "        y = C.Variable(np.stack([self._target(s) for s in sample]).astype(np.float32))\n",
    "        #calc loss\n",
    "        self._model.cleargrads()\n",
    "        qs = self._model(C.Variable(states))\n",
    "        q = qs[np.arange(len(sample)), actions]\n",
    "        loss = C.functions.mean_squared_error(y, q)\n",
    "        #XXX print('loss', float(loss.data))\n",
    "        loss.backward()\n",
    "        self._optim.update()\n",
    "\n",
    "agent = Agent()\n",
    "print([agent.act(np.ones(4, dtype=np.float32)) for i in range(50)])\n",
    "agent.reward(1.0, np.ones(4, dtype=np.float32))"
   ]
  },
  {
   "cell_type": "code",
   "execution_count": null,
   "metadata": {
    "scrolled": false
   },
   "outputs": [],
   "source": [
    "env = gym.wrappers.Monitor(gym.make('CartPole-v0'),\n",
    "                           directory='out',\n",
    "                           force=True)\n",
    "\n",
    "env.seed(0)\n",
    "agent = Agent()\n",
    "\n",
    "for ep in range(n_episodes):\n",
    "    state = env.reset()\n",
    "    done = False\n",
    "    while not done:\n",
    "        state, reward, done, _ = env.step(agent.act(np.array(state, dtype=np.float32)))\n",
    "        state = np.array(state, dtype=np.float32)\n",
    "        agent.reward(reward, None if done else state)\n",
    "    print(ep, 'steps', env.get_episode_lengths()[-1])\n"
   ]
  },
  {
   "cell_type": "code",
   "execution_count": null,
   "metadata": {},
   "outputs": [],
   "source": []
  }
 ],
 "metadata": {
  "kernelspec": {
   "display_name": "Python 3",
   "language": "python",
   "name": "python3"
  },
  "language_info": {
   "codemirror_mode": {
    "name": "ipython",
    "version": 3
   },
   "file_extension": ".py",
   "mimetype": "text/x-python",
   "name": "python",
   "nbconvert_exporter": "python",
   "pygments_lexer": "ipython3",
   "version": "3.6.3"
  }
 },
 "nbformat": 4,
 "nbformat_minor": 2
}
